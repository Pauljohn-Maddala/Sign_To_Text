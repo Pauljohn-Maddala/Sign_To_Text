{
 "cells": [
  {
   "cell_type": "code",
   "execution_count": 1,
   "id": "47bc6ba5-b9f7-45e2-a78c-9a8042b9ce52",
   "metadata": {
    "pycharm": {
     "name": "#%%\n"
    }
   },
   "outputs": [],
   "source": [
    "import numpy as np\n",
    "import pandas as pd\n",
    "import mediapipe as mp\n",
    "import tensorflow\n",
    "import keras"
   ]
  },
  {
   "cell_type": "code",
   "execution_count": 2,
   "id": "90edb3ef-d2cd-4ce4-9e3a-999ab241b349",
   "metadata": {
    "pycharm": {
     "name": "#%%\n"
    }
   },
   "outputs": [],
   "source": [
    "import cv2\n",
    "import os\n",
    "from os import listdir"
   ]
  },
  {
   "cell_type": "code",
   "execution_count": 3,
   "id": "25c608c3-6e4b-4a15-b187-ecaf30d33a50",
   "metadata": {
    "pycharm": {
     "name": "#%%\n"
    }
   },
   "outputs": [],
   "source": [
    "from PIL import Image\n",
    "import math"
   ]
  },
  {
   "cell_type": "code",
   "execution_count": 4,
   "id": "d0d4950d-3a72-49d9-ae4a-be0b9d02bb94",
   "metadata": {
    "pycharm": {
     "name": "#%%\n"
    }
   },
   "outputs": [],
   "source": [
    "mp_drawing = mp.solutions.drawing_utils\n",
    "mp_hands = mp.solutions.hands\n",
    "mp_drawing_styles = mp.solutions.drawing_styles"
   ]
  },
  {
   "cell_type": "code",
   "execution_count": 5,
   "id": "9937b855-1a57-493e-98c7-de8e57ec577a",
   "metadata": {
    "pycharm": {
     "name": "#%%\n"
    }
   },
   "outputs": [],
   "source": [
    "IMAGE_FILES = r\"D:\\my personal\\My Project\\Projects\\sign to speech\\DATASET\\train\\A\""
   ]
  },
  {
   "cell_type": "code",
   "execution_count": 8,
   "id": "21b9b0e6-c104-4171-9097-9e3f93663e70",
   "metadata": {
    "pycharm": {
     "name": "#%%\n"
    }
   },
   "outputs": [],
   "source": [
    "import csv\n",
    "import os\n",
    "import numpy as np"
   ]
  },
  {
   "cell_type": "code",
   "execution_count": null,
   "id": "c8c9dbf6-6dd6-4054-8cd1-06a5595f803a",
   "metadata": {
    "pycharm": {
     "name": "#%%\n"
    }
   },
   "outputs": [],
   "source": [
    "landmarks = ['class']\n",
    "for val in range(1, 22):\n",
    "    landmarks += ['x{}'.format(val), 'y{}'.format(val), 'z{}'.format(val)]\n",
    "with open('coords.csv', mode='w', newline='') as f:\n",
    "    csv_writer = csv.writer(f, delimiter=',', quotechar='\"', quoting=csv.QUOTE_MINIMAL)\n",
    "    csv_writer.writerow(landmarks)"
   ]
  },
  {
   "cell_type": "code",
   "execution_count": null,
   "id": "176a66f3-cc49-4f62-9d04-807068ee8b39",
   "metadata": {
    "pycharm": {
     "name": "#%%\n"
    }
   },
   "outputs": [],
   "source": [
    "def coord(path,alphabet):\n",
    "    try:\n",
    "        with mp_hands.Hands(\n",
    "        static_image_mode=True,\n",
    "        max_num_hands=2,\n",
    "        min_detection_confidence=0.5) as hands:\n",
    "            file = cv2.imread(path)\n",
    "            image = cv2.flip(file, 1)\n",
    "            image = cv2.cvtColor(image,cv2.COLOR_BGR2RGB)\n",
    "            image.flags.writeable = False\n",
    "            results = hands.process(image)\n",
    "            if not results.multi_hand_landmarks:\n",
    "                pass\n",
    "            image_height, image_width, _ = image.shape\n",
    "            annotated_image = image.copy()\n",
    "            for hand_landmarks in results.multi_hand_landmarks:\n",
    "                hands = results.multi_hand_landmarks[0].landmark\n",
    "                hand_row = list(np.array([[landmark.x, landmark.y, landmark.z] for landmark in hands]).flatten())\n",
    "                class_name = alphabet\n",
    "                hand_row.insert(0,class_name)\n",
    "                with open('coords.csv', mode='a', newline='') as f:\n",
    "                    csv_writer = csv.writer(f, delimiter=',', quotechar='\"', quoting=csv.QUOTE_MINIMAL)\n",
    "                    csv_writer.writerow(hand_row)\n",
    "    except Exception as e:\n",
    "        print(e)"
   ]
  },
  {
   "cell_type": "code",
   "execution_count": null,
   "id": "c92e713d-2529-47bd-8c5c-6dfc130a1df4",
   "metadata": {
    "pycharm": {
     "name": "#%%\n"
    }
   },
   "outputs": [],
   "source": [
    "with mp_hands.Hands(\n",
    "    static_image_mode=True,\n",
    "    max_num_hands=2,\n",
    "    min_detection_confidence=0.5) as hands:\n",
    "    alphabets = ['A','B','C','D','E','F','G','H','I','J','K','L','M','N','O','P','Q','R','S','T','U','V','W','X','Y','Z','space','del']\n",
    "    for i in alphabets:\n",
    "        IMAGE_FILES = r'D:\\my personal\\My Project\\Projects\\sign to speech\\DATASET\\train\\\\' + str(i)\n",
    "        for idx, file in enumerate(os.listdir(IMAGE_FILES)):\n",
    "            path = IMAGE_FILES+\"\\\\\"+str(file)\n",
    "            coord(path,i)"
   ]
  },
  {
   "cell_type": "code",
   "execution_count": 9,
   "id": "2c14df05-9864-4ee5-a92c-b169d1e20f81",
   "metadata": {
    "pycharm": {
     "name": "#%%\n"
    }
   },
   "outputs": [],
   "source": [
    "landmarks = []\n",
    "for val in range(1, 22):\n",
    "    landmarks += ['x{}'.format(val), 'y{}'.format(val), 'z{}'.format(val)]\n",
    "with open('test_coords.csv', mode='w', newline='') as f:\n",
    "    csv_writer = csv.writer(f, delimiter=',', quotechar='\"', quoting=csv.QUOTE_MINIMAL)\n",
    "    csv_writer.writerow(landmarks)"
   ]
  },
  {
   "cell_type": "code",
   "execution_count": null,
   "id": "3b276770-7721-470a-a83d-6bb9b6d4a648",
   "metadata": {},
   "outputs": [],
   "source": []
  }
 ],
 "metadata": {
  "kernelspec": {
   "display_name": "Python 3 (ipykernel)",
   "language": "python",
   "name": "python3"
  },
  "language_info": {
   "codemirror_mode": {
    "name": "ipython",
    "version": 3
   },
   "file_extension": ".py",
   "mimetype": "text/x-python",
   "name": "python",
   "nbconvert_exporter": "python",
   "pygments_lexer": "ipython3",
   "version": "3.11.5"
  }
 },
 "nbformat": 4,
 "nbformat_minor": 5
}
