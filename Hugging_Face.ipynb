{
 "cells": [
  {
   "cell_type": "code",
   "execution_count": 1,
   "id": "6279649f",
   "metadata": {},
   "outputs": [
    {
     "name": "stderr",
     "output_type": "stream",
     "text": [
      "/Users/pauljohnmaddala/anaconda3/envs/tfenv/lib/python3.8/site-packages/tqdm/auto.py:21: TqdmWarning: IProgress not found. Please update jupyter and ipywidgets. See https://ipywidgets.readthedocs.io/en/stable/user_install.html\n",
      "  from .autonotebook import tqdm as notebook_tqdm\n"
     ]
    }
   ],
   "source": [
    "import tensorflow as tf\n",
    "from tensorflow.keras.preprocessing.image import ImageDataGenerator\n",
    "\n",
    "# Install necessary libraries\n",
    "#!pip install transformers datasets evaluate\n",
    "\n",
    "# Import libraries\n",
    "import os\n",
    "import numpy as np\n",
    "from transformers import ViTFeatureExtractor, TFAutoModelForImageClassification\n",
    "from tensorflow.keras.preprocessing.image import ImageDataGenerator, img_to_array, load_img\n",
    "from datasets import load_dataset\n",
    "from tensorflow.keras.optimizers import Adam"
   ]
  },
  {
   "cell_type": "code",
   "execution_count": 2,
   "id": "0b3f6877",
   "metadata": {},
   "outputs": [],
   "source": [
    "def custom_data_generator(directory, batch_size, feature_extractor):\n",
    "    datagen = ImageDataGenerator(rescale=1./255)\n",
    "    for folder in os.listdir(directory):\n",
    "        folder_path = os.path.join(directory, folder)\n",
    "        if os.path.isdir(folder_path):\n",
    "            images = os.listdir(folder_path)[:50]  # Take first 50 images\n",
    "            while True:\n",
    "                for i in range(0, len(images), batch_size):\n",
    "                    batch_images = images[i:i + batch_size]\n",
    "                    batch_data = []\n",
    "                    batch_labels = []\n",
    "                    for img in batch_images:\n",
    "                        img_path = os.path.join(folder_path, img)\n",
    "                        image = load_img(img_path, target_size=(224, 224))\n",
    "                        image = img_to_array(image)\n",
    "                        image = datagen.standardize(image)\n",
    "                        batch_data.append(feature_extractor(images=image, return_tensors=\"tf\").pixel_values[0])\n",
    "\n",
    "                        # Assuming label is the folder name\n",
    "                        label_index = ord(folder.lower()) - ord('a')  # Convert folder name to a numerical label\n",
    "                        batch_labels.append(label_index)\n",
    "\n",
    "                    yield np.array(batch_data), np.array(batch_labels)\n"
   ]
  },
  {
   "cell_type": "code",
   "execution_count": 3,
   "id": "e20782c4",
   "metadata": {},
   "outputs": [
    {
     "name": "stderr",
     "output_type": "stream",
     "text": [
      "/Users/pauljohnmaddala/anaconda3/envs/tfenv/lib/python3.8/site-packages/transformers/models/vit/feature_extraction_vit.py:28: FutureWarning: The class ViTFeatureExtractor is deprecated and will be removed in version 5 of Transformers. Please use ViTImageProcessor instead.\n",
      "  warnings.warn(\n",
      "Some layers from the model checkpoint at google/vit-base-patch16-224-in21k were not used when initializing TFViTForImageClassification: ['vit/pooler/dense/kernel:0', 'vit/pooler/dense/bias:0']\n",
      "- This IS expected if you are initializing TFViTForImageClassification from the checkpoint of a model trained on another task or with another architecture (e.g. initializing a BertForSequenceClassification model from a BertForPreTraining model).\n",
      "- This IS NOT expected if you are initializing TFViTForImageClassification from the checkpoint of a model that you expect to be exactly identical (initializing a BertForSequenceClassification model from a BertForSequenceClassification model).\n",
      "Some layers of TFViTForImageClassification were not initialized from the model checkpoint at google/vit-base-patch16-224-in21k and are newly initialized: ['classifier']\n",
      "You should probably TRAIN this model on a down-stream task to be able to use it for predictions and inference.\n"
     ]
    }
   ],
   "source": [
    "feature_extractor = ViTFeatureExtractor.from_pretrained('google/vit-base-patch16-224-in21k')\n",
    "model = TFAutoModelForImageClassification.from_pretrained('google/vit-base-patch16-224-in21k', num_labels=26)\n"
   ]
  },
  {
   "cell_type": "code",
   "execution_count": 4,
   "id": "b924e124",
   "metadata": {},
   "outputs": [],
   "source": [
    "model.compile(optimizer='adam', loss='sparse_categorical_crossentropy', metrics=['accuracy'])"
   ]
  },
  {
   "cell_type": "code",
   "execution_count": 5,
   "id": "74586a3b",
   "metadata": {},
   "outputs": [
    {
     "name": "stdout",
     "output_type": "stream",
     "text": [
      "Epoch 1/3\n"
     ]
    },
    {
     "name": "stderr",
     "output_type": "stream",
     "text": [
      "2023-11-30 16:51:20.121649: W tensorflow/tsl/platform/profile_utils/cpu_utils.cc:128] Failed to get CPU frequency: 0 Hz\n"
     ]
    },
    {
     "name": "stdout",
     "output_type": "stream",
     "text": [
      "9/9 [==============================] - 109s 11s/step - loss: 3.5064 - accuracy: 0.6466\n",
      "Epoch 2/3\n",
      "9/9 [==============================] - 92s 11s/step - loss: 2.5034e-06 - accuracy: 1.0000\n",
      "Epoch 3/3\n",
      "9/9 [==============================] - 99s 11s/step - loss: 2.5034e-06 - accuracy: 1.0000\n"
     ]
    },
    {
     "data": {
      "text/plain": [
       "<keras.callbacks.History at 0x17de7bc10>"
      ]
     },
     "execution_count": 5,
     "metadata": {},
     "output_type": "execute_result"
    }
   ],
   "source": [
    "train_dir = 'DATASET/train'  # Replace with your training directory path\n",
    "batch_size = 32\n",
    "train_generator = custom_data_generator(train_dir, batch_size, feature_extractor)\n",
    "\n",
    "steps_per_epoch = (10 * 29) // batch_size  # 26 classes, 50 images each\n",
    "model.fit(train_generator, steps_per_epoch=steps_per_epoch, epochs=3)\n"
   ]
  },
  {
   "cell_type": "code",
   "execution_count": 6,
   "id": "9ce6ca06",
   "metadata": {},
   "outputs": [],
   "source": [
    "def custom_data_generator_for_test(directory, batch_size, feature_extractor):\n",
    "    datagen = ImageDataGenerator(rescale=1./255)\n",
    "    images = os.listdir(directory)[:50]  # Adjust the number of images as needed\n",
    "    while True:\n",
    "        for i in range(0, len(images), batch_size):\n",
    "            batch_images = images[i:i + batch_size]\n",
    "            batch_data = []\n",
    "            for img in batch_images:\n",
    "                img_path = os.path.join(directory, img)\n",
    "                image = load_img(img_path, target_size=(224, 224))\n",
    "                image = img_to_array(image)\n",
    "                image = datagen.standardize(image)\n",
    "                batch_data.append(feature_extractor(images=image, return_tensors=\"tf\").pixel_values[0])\n",
    "\n",
    "            # Create dummy labels (e.g., zeros) since the test set might be unlabeled\n",
    "            dummy_labels = np.zeros((len(batch_data),))  # Adjust the shape according to your model's requirement\n",
    "\n",
    "            yield np.array(batch_data), dummy_labels\n"
   ]
  },
  {
   "cell_type": "code",
   "execution_count": null,
   "id": "9ab3d308",
   "metadata": {},
   "outputs": [],
   "source": [
    "import os\n",
    "import math\n",
    "\n",
    "test_dir = 'DATASET/test'  # Replace with your test directory path\n",
    "test_generator = custom_data_generator_for_test(test_dir, batch_size, feature_extractor)\n",
    "\n",
    "# Calculate the number of steps for the test data\n",
    "# Ensure test_steps is at least 1 and round up to cover all data\n",
    "num_test_images = len(os.listdir(test_dir))\n",
    "test_steps = max(1, math.ceil(num_test_images / batch_size))\n",
    "\n",
    "# Evaluate the model\n",
    "loss, accuracy = model.evaluate(test_generator, steps=test_steps)\n",
    "\n",
    "print(f\"Test Accuracy: {accuracy * 100:.2f}%\")"
   ]
  },
  {
   "cell_type": "code",
   "execution_count": null,
   "id": "bcd08d52",
   "metadata": {},
   "outputs": [],
   "source": []
  },
  {
   "cell_type": "code",
   "execution_count": null,
   "id": "48848aaa",
   "metadata": {},
   "outputs": [],
   "source": []
  }
 ],
 "metadata": {
  "kernelspec": {
   "display_name": "Python 3 (ipykernel)",
   "language": "python",
   "name": "python3"
  },
  "language_info": {
   "codemirror_mode": {
    "name": "ipython",
    "version": 3
   },
   "file_extension": ".py",
   "mimetype": "text/x-python",
   "name": "python",
   "nbconvert_exporter": "python",
   "pygments_lexer": "ipython3",
   "version": "3.11.5"
  }
 },
 "nbformat": 4,
 "nbformat_minor": 5
}
